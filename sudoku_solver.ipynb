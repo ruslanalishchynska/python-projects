{
 "cells": [
  {
   "cell_type": "code",
   "execution_count": 1,
   "metadata": {},
   "outputs": [],
   "source": [
    "board = [\n",
    "    [0, 0, 0, 2, 0, 0, 0, 0, 0],\n",
    "    [1, 0, 3, 0, 0, 5, 0, 0, 7],\n",
    "    [7, 8, 0, 9, 0, 0, 0, 0, 0],\n",
    "    [0, 0, 1, 0, 3, 0, 0, 0, 0],\n",
    "    [0, 3, 5, 8, 0, 4, 7, 2, 0],\n",
    "    [0, 0, 0, 0, 9, 0, 6, 0, 0],\n",
    "    [0, 0, 0, 0, 0, 9, 0, 4, 5],\n",
    "    [9, 0, 0, 7, 0, 0, 3, 0, 2],\n",
    "    [0, 0, 0, 0, 0, 6, 0, 0, 0]\n",
    "]"
   ]
  },
  {
   "cell_type": "code",
   "execution_count": 2,
   "metadata": {},
   "outputs": [],
   "source": [
    "def print_board(b): # b - board_name\n",
    "    \n",
    "    for i in range(len(b)):\n",
    "        if i % 3 == 0 and i != 0:\n",
    "            print('- - - - - - - - - - - -')\n",
    "            \n",
    "        for j in range(len(b[0])):\n",
    "            if j % 3 == 0 and j != 0:\n",
    "                print(' | ', end='')\n",
    "            \n",
    "            if j == 8:\n",
    "                print(b[i][j])\n",
    "            else:\n",
    "                print(str(b[i][j]) + ' ', end='')"
   ]
  },
  {
   "cell_type": "code",
   "execution_count": 3,
   "metadata": {},
   "outputs": [],
   "source": [
    "def solver(b):\n",
    "    \n",
    "    find = find_unknown_cell(b)\n",
    "    \n",
    "    if not find:\n",
    "        return True\n",
    "    else: \n",
    "        row, col = find\n",
    "        \n",
    "    for i in range(1, 10):\n",
    "        if is_valid(b, i, (row, col)):\n",
    "            b[row][col] = i\n",
    "            \n",
    "            if solver(b):\n",
    "                return True\n",
    "            \n",
    "            b[row][col] = 0\n",
    "            \n",
    "    return False"
   ]
  },
  {
   "cell_type": "code",
   "execution_count": 4,
   "metadata": {},
   "outputs": [],
   "source": [
    "def find_unknown_cell(b):\n",
    "    \n",
    "    for i in range(len(b)):\n",
    "        for j in range(len(b[0])):\n",
    "            if b[i][j] == 0:\n",
    "                return (i, j)"
   ]
  },
  {
   "cell_type": "code",
   "execution_count": 5,
   "metadata": {},
   "outputs": [],
   "source": [
    "def is_valid(b, num, pos):\n",
    "    \n",
    "    for j in range(len(b[0])):\n",
    "        if b[pos[0]][j] == num and pos[1] != j:\n",
    "            return False\n",
    "    \n",
    "    for i in range(len(b)):\n",
    "        if b[i][pos[1]] == num and pos[0] != i:\n",
    "            return False\n",
    "        \n",
    "    box_x = pos[0] // 3\n",
    "    box_y = pos[1] // 3\n",
    "    \n",
    "    for i in range(box_x*3, box_x*3+3):\n",
    "        for j in range(box_y*3, box_y*3+3):\n",
    "            if b[i][j] == num and (i, j) != pos:\n",
    "                return False\n",
    "            \n",
    "    return True"
   ]
  },
  {
   "cell_type": "code",
   "execution_count": 6,
   "metadata": {},
   "outputs": [
    {
     "name": "stdout",
     "output_type": "stream",
     "text": [
      "0 0 0  | 2 0 0  | 0 0 0\n",
      "1 0 3  | 0 0 5  | 0 0 7\n",
      "7 8 0  | 9 0 0  | 0 0 0\n",
      "- - - - - - - - - - - -\n",
      "0 0 1  | 0 3 0  | 0 0 0\n",
      "0 3 5  | 8 0 4  | 7 2 0\n",
      "0 0 0  | 0 9 0  | 6 0 0\n",
      "- - - - - - - - - - - -\n",
      "0 0 0  | 0 0 9  | 0 4 5\n",
      "9 0 0  | 7 0 0  | 3 0 2\n",
      "0 0 0  | 0 0 6  | 0 0 0\n"
     ]
    }
   ],
   "source": [
    "print_board(board)"
   ]
  },
  {
   "cell_type": "code",
   "execution_count": 7,
   "metadata": {},
   "outputs": [
    {
     "data": {
      "text/plain": [
       "True"
      ]
     },
     "execution_count": 7,
     "metadata": {},
     "output_type": "execute_result"
    }
   ],
   "source": [
    "solver(board)"
   ]
  },
  {
   "cell_type": "code",
   "execution_count": 8,
   "metadata": {},
   "outputs": [
    {
     "name": "stdout",
     "output_type": "stream",
     "text": [
      "4 5 9  | 2 7 3  | 1 8 6\n",
      "1 6 3  | 4 8 5  | 2 9 7\n",
      "7 8 2  | 9 6 1  | 5 3 4\n",
      "- - - - - - - - - - - -\n",
      "2 9 1  | 6 3 7  | 4 5 8\n",
      "6 3 5  | 8 1 4  | 7 2 9\n",
      "8 4 7  | 5 9 2  | 6 1 3\n",
      "- - - - - - - - - - - -\n",
      "3 7 6  | 1 2 9  | 8 4 5\n",
      "9 1 4  | 7 5 8  | 3 6 2\n",
      "5 2 8  | 3 4 6  | 9 7 1\n"
     ]
    }
   ],
   "source": [
    "print_board(board)"
   ]
  },
  {
   "cell_type": "code",
   "execution_count": null,
   "metadata": {},
   "outputs": [],
   "source": []
  }
 ],
 "metadata": {
  "kernelspec": {
   "display_name": "Python 3",
   "language": "python",
   "name": "python3"
  },
  "language_info": {
   "codemirror_mode": {
    "name": "ipython",
    "version": 3
   },
   "file_extension": ".py",
   "mimetype": "text/x-python",
   "name": "python",
   "nbconvert_exporter": "python",
   "pygments_lexer": "ipython3",
   "version": "3.7.8"
  }
 },
 "nbformat": 4,
 "nbformat_minor": 4
}
